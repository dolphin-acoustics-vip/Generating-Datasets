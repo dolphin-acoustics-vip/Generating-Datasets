{
 "cells": [
  {
   "cell_type": "markdown",
   "metadata": {},
   "source": [
    "# Classifying dolphin whistle sounds with a Convolutional Neural Network\n",
    "\n",
    "This jupyter notebook creates a model, trains it and evaluates it.\n",
    "\n",
    "This code is fully os-independent and fs-independent, so you don't have to worry whether you are running on a windows os or IOS or linux, they will all work. But do make sure you set up a virtual environment correctly before continuing."
   ]
  },
  {
   "cell_type": "markdown",
   "metadata": {},
   "source": [
    "Import relevant packages. Set up the virtual environment as specified in the README file to avoid \"dependency-hell\"."
   ]
  },
  {
   "cell_type": "code",
   "execution_count": 1,
   "metadata": {},
   "outputs": [],
   "source": [
    "import matplotlib.pyplot as plt\n",
    "import numpy as np\n",
    "\n",
    "from tensorflow import keras\n",
    "from tensorflow.keras.preprocessing.image import ImageDataGenerator\n",
    "from keras.layers import BatchNormalization\n",
    "from keras.callbacks import EarlyStopping\n",
    "from tensorflow.keras import layers, models  # For specifying the type of layer (Dense)\n",
    "\n",
    "from sklearn.metrics import classification_report, confusion_matrix, ConfusionMatrixDisplay\n",
    "from pathlib import Path\n"
   ]
  },
  {
   "cell_type": "markdown",
   "metadata": {},
   "source": [
    "# Generate Training, Validation and Test Datasets\n",
    "\n",
    "Here we generate training, validation datasets from the training data directory TRAIN_DATA_DIR and testing datasets from the testing data directory TEST_DATA_DIR\n",
    "\n",
    "Before running the following cell, change the relative paths to the folders on your machine."
   ]
  },
  {
   "cell_type": "code",
   "execution_count": 2,
   "metadata": {},
   "outputs": [],
   "source": [
    "TRAINING_DATA_DIR = Path(\"/Users/matteohe/Desktop/DA/full-dclde-imgs/training-data\")\n",
    "TEST_DATA_DIR = Path(\"/Users/matteohe/Desktop/DA/full-dclde-imgs/testing-data\")\n",
    "\n",
    "X, Y = 413, 202\n",
    "IMAGE_SHAPE = (X, Y) # (row, col) format for imshow and (height, width) for ImageDataGenerator\n",
    "VALIDATION_SPLIT = 0.20 # validation split from the training data set"
   ]
  },
  {
   "cell_type": "markdown",
   "metadata": {},
   "source": [
    "The default here is to keep the shuffle parameter to false, since it is pretty much pointless to shuffle the testing data as weights are not updated during the testing phase. But if you are testing something you should change it to true with the following caveat:\n",
    "\n",
    "**NB: If you change the shuffle option in test_generator code to true (in case a metric you want to test requires the order to be shuffled), be mindful of what you did and definitely change the code in the bottom of this file in the Evaluation section, more specifically: the truth labels will need to be collected in a different way than it is right now in the classification report and confusion matrix code blocks.**"
   ]
  },
  {
   "cell_type": "code",
   "execution_count": 3,
   "metadata": {},
   "outputs": [
    {
     "name": "stdout",
     "output_type": "stream",
     "text": [
      "Found 4777 images belonging to 3 classes.\n",
      "Found 1193 images belonging to 3 classes.\n",
      "Found 2557 images belonging to 3 classes.\n"
     ]
    }
   ],
   "source": [
    "train_datagen = ImageDataGenerator(\n",
    "    rescale=1.0 / 255, validation_split=VALIDATION_SPLIT\n",
    ")  # https://stackoverflow.com/questions/42443936/keras-split-train-test-set-when-using-imagedatagenerator\n",
    "\n",
    "train_generator = train_datagen.flow_from_directory(\n",
    "    TRAINING_DATA_DIR, subset=\"training\", shuffle=True, target_size=IMAGE_SHAPE\n",
    ")\n",
    "\n",
    "validation_generator = train_datagen.flow_from_directory(\n",
    "    TRAINING_DATA_DIR, subset=\"validation\", shuffle=True, target_size=IMAGE_SHAPE\n",
    ")\n",
    "\n",
    "test_generator = ImageDataGenerator(rescale=1.0 / 255).flow_from_directory(\n",
    "    TEST_DATA_DIR, shuffle=False, target_size=IMAGE_SHAPE\n",
    ") "
   ]
  },
  {
   "cell_type": "markdown",
   "metadata": {},
   "source": [
    "## Building a CNN model and stacking the layers\n",
    "\n",
    "This section is dedicated to creating CNN models"
   ]
  },
  {
   "cell_type": "markdown",
   "metadata": {},
   "source": [
    "Configurations code for the model. There are a lot of things still worth exploring with the following model code. One thing that can be done is experimenting with dropout layers"
   ]
  },
  {
   "cell_type": "code",
   "execution_count": 4,
   "metadata": {},
   "outputs": [],
   "source": [
    "KERNEL_SIZE = (3, 3) # 3x3 is the optimal size of a kernel 3x3 as agreed by the computing community\n",
    "INPUT_SHAPE = (X, Y, 3)\n",
    "LAYERS = 32"
   ]
  },
  {
   "cell_type": "code",
   "execution_count": 5,
   "metadata": {},
   "outputs": [
    {
     "name": "stdout",
     "output_type": "stream",
     "text": [
      "Model: \"sequential\"\n",
      "_________________________________________________________________\n",
      " Layer (type)                Output Shape              Param #   \n",
      "=================================================================\n",
      " conv2d (Conv2D)             (None, 411, 200, 32)      896       \n",
      "                                                                 \n",
      " batch_normalization (BatchN  (None, 411, 200, 32)     128       \n",
      " ormalization)                                                   \n",
      "                                                                 \n",
      " max_pooling2d (MaxPooling2D  (None, 205, 100, 32)     0         \n",
      " )                                                               \n",
      "                                                                 \n",
      " conv2d_1 (Conv2D)           (None, 203, 98, 64)       18496     \n",
      "                                                                 \n",
      " batch_normalization_1 (Batc  (None, 203, 98, 64)      256       \n",
      " hNormalization)                                                 \n",
      "                                                                 \n",
      " max_pooling2d_1 (MaxPooling  (None, 101, 49, 64)      0         \n",
      " 2D)                                                             \n",
      "                                                                 \n",
      " conv2d_2 (Conv2D)           (None, 99, 47, 128)       73856     \n",
      "                                                                 \n",
      " batch_normalization_2 (Batc  (None, 99, 47, 128)      512       \n",
      " hNormalization)                                                 \n",
      "                                                                 \n",
      " max_pooling2d_2 (MaxPooling  (None, 49, 23, 128)      0         \n",
      " 2D)                                                             \n",
      "                                                                 \n",
      " flatten (Flatten)           (None, 144256)            0         \n",
      "                                                                 \n",
      " dense (Dense)               (None, 64)                9232448   \n",
      "                                                                 \n",
      " batch_normalization_3 (Batc  (None, 64)               256       \n",
      " hNormalization)                                                 \n",
      "                                                                 \n",
      " dense_1 (Dense)             (None, 3)                 195       \n",
      "                                                                 \n",
      "=================================================================\n",
      "Total params: 9,327,043\n",
      "Trainable params: 9,326,467\n",
      "Non-trainable params: 576\n",
      "_________________________________________________________________\n"
     ]
    },
    {
     "name": "stderr",
     "output_type": "stream",
     "text": [
      "2022-04-05 21:31:22.855211: I tensorflow/core/platform/cpu_feature_guard.cc:151] This TensorFlow binary is optimized with oneAPI Deep Neural Network Library (oneDNN) to use the following CPU instructions in performance-critical operations:  AVX2 FMA\n",
      "To enable them in other operations, rebuild TensorFlow with the appropriate compiler flags.\n"
     ]
    }
   ],
   "source": [
    "model = models.Sequential()\n",
    "\n",
    "model.add(layers.Conv2D(LAYERS, kernel_size=KERNEL_SIZE, activation=\"relu\", input_shape=INPUT_SHAPE))\n",
    "model.add(layers.BatchNormalization())\n",
    "model.add(layers.MaxPooling2D(pool_size=(2, 2), strides=2))\n",
    "\n",
    "model.add(layers.Conv2D(LAYERS * 2, kernel_size=KERNEL_SIZE, activation=\"relu\", input_shape=INPUT_SHAPE))\n",
    "model.add(layers.BatchNormalization())\n",
    "model.add(layers.MaxPooling2D(pool_size=(2, 2), strides=2))\n",
    "\n",
    "model.add(layers.Conv2D(LAYERS * 4, kernel_size=KERNEL_SIZE, activation=\"relu\", input_shape=INPUT_SHAPE))\n",
    "model.add(layers.BatchNormalization())\n",
    "model.add(layers.MaxPooling2D(pool_size=(2, 2), strides=2))\n",
    "\n",
    "model.add(layers.Flatten())\n",
    "model.add(layers.Dense(LAYERS * 2, activation=\"relu\"))\n",
    "model.add(BatchNormalization())\n",
    "model.add(layers.Dense(3, activation=\"softmax\"))\n",
    "\n",
    "model.summary()\n"
   ]
  },
  {
   "cell_type": "code",
   "execution_count": 5,
   "metadata": {},
   "outputs": [
    {
     "name": "stdout",
     "output_type": "stream",
     "text": [
      "Model: \"sequential\"\n",
      "_________________________________________________________________\n",
      " Layer (type)                Output Shape              Param #   \n",
      "=================================================================\n",
      " conv2d (Conv2D)             (None, 411, 200, 32)      896       \n",
      "                                                                 \n",
      " batch_normalization (BatchN  (None, 411, 200, 32)     128       \n",
      " ormalization)                                                   \n",
      "                                                                 \n",
      " max_pooling2d (MaxPooling2D  (None, 205, 100, 32)     0         \n",
      " )                                                               \n",
      "                                                                 \n",
      " conv2d_1 (Conv2D)           (None, 203, 98, 32)       9248      \n",
      "                                                                 \n",
      " batch_normalization_1 (Batc  (None, 203, 98, 32)      128       \n",
      " hNormalization)                                                 \n",
      "                                                                 \n",
      " max_pooling2d_1 (MaxPooling  (None, 101, 49, 32)      0         \n",
      " 2D)                                                             \n",
      "                                                                 \n",
      " conv2d_2 (Conv2D)           (None, 99, 47, 32)        9248      \n",
      "                                                                 \n",
      " batch_normalization_2 (Batc  (None, 99, 47, 32)       128       \n",
      " hNormalization)                                                 \n",
      "                                                                 \n",
      " flatten (Flatten)           (None, 148896)            0         \n",
      "                                                                 \n",
      " dense (Dense)               (None, 64)                9529408   \n",
      "                                                                 \n",
      " batch_normalization_3 (Batc  (None, 64)               256       \n",
      " hNormalization)                                                 \n",
      "                                                                 \n",
      " dense_1 (Dense)             (None, 3)                 195       \n",
      "                                                                 \n",
      "=================================================================\n",
      "Total params: 9,549,635\n",
      "Trainable params: 9,549,315\n",
      "Non-trainable params: 320\n",
      "_________________________________________________________________\n"
     ]
    },
    {
     "name": "stderr",
     "output_type": "stream",
     "text": [
      "2022-04-05 20:59:54.096043: I tensorflow/core/platform/cpu_feature_guard.cc:151] This TensorFlow binary is optimized with oneAPI Deep Neural Network Library (oneDNN) to use the following CPU instructions in performance-critical operations:  AVX2 FMA\n",
      "To enable them in other operations, rebuild TensorFlow with the appropriate compiler flags.\n"
     ]
    }
   ],
   "source": [
    "# # instantiate model object\n",
    "# model = models.Sequential()\n",
    "\n",
    "# # Stack layers on the sequential base model\n",
    "# model.add(layers.Conv2D(LAYERS, KERNEL_SIZE, activation=\"relu\", input_shape=INPUT_SHAPE))\n",
    "# model.add(layers.BatchNormalization())\n",
    "# model.add(layers.MaxPooling2D(pool_size=(2, 2)))\n",
    "# model.add(layers.Conv2D(LAYERS, KERNEL_SIZE, activation=\"relu\"))\n",
    "# model.add(BatchNormalization())\n",
    "# model.add(layers.MaxPooling2D((2, 2)))\n",
    "# model.add(layers.Conv2D(LAYERS, KERNEL_SIZE, activation=\"relu\"))\n",
    "# model.add(BatchNormalization())\n",
    "\n",
    "# # Add fully connected layers\n",
    "# model.add(layers.Flatten())\n",
    "# model.add(layers.Dense(64, activation=\"relu\"))\n",
    "# model.add(BatchNormalization())\n",
    "# model.add(layers.Dense(3, activation=\"softmax\"))\n",
    "\n",
    "# # print out summary of code\n",
    "# model.summary()"
   ]
  },
  {
   "cell_type": "markdown",
   "metadata": {},
   "source": [
    "# Training the CNN model"
   ]
  },
  {
   "cell_type": "markdown",
   "metadata": {},
   "source": [
    "Configurations code for the CNN training process."
   ]
  },
  {
   "cell_type": "code",
   "execution_count": 6,
   "metadata": {},
   "outputs": [],
   "source": [
    "# compile model\n",
    "model.compile(\n",
    "    optimizer=\"adam\", \n",
    "    loss=\"categorical_crossentropy\",\n",
    "    metrics=[\"accuracy\"]\n",
    ")\n",
    "\n",
    "# Configurations\n",
    "STEP_SIZE_TRAIN = train_generator.n // train_generator.batch_size\n",
    "STEP_SIZE_VALID = validation_generator.n // validation_generator.batch_size\n",
    "NUM_EPOCHS = 11\n",
    "ES = EarlyStopping(\"val_loss\", mode=\"auto\", verbose=1, patience=5)"
   ]
  },
  {
   "cell_type": "markdown",
   "metadata": {},
   "source": [
    "Train the network."
   ]
  },
  {
   "cell_type": "code",
   "execution_count": 7,
   "metadata": {},
   "outputs": [
    {
     "name": "stdout",
     "output_type": "stream",
     "text": [
      "[INFO] training network for 11 epochs...\n",
      "Epoch 1/11\n",
      "149/149 [==============================] - 155s 1s/step - loss: 0.5872 - accuracy: 0.7800 - val_loss: 2.9392 - val_accuracy: 0.3758\n",
      "Epoch 2/11\n",
      "149/149 [==============================] - 157s 1s/step - loss: 0.1504 - accuracy: 0.9524 - val_loss: 4.1307 - val_accuracy: 0.4155\n",
      "Epoch 3/11\n",
      "149/149 [==============================] - 156s 1s/step - loss: 0.0527 - accuracy: 0.9882 - val_loss: 2.2165 - val_accuracy: 0.5659\n",
      "Epoch 4/11\n",
      "149/149 [==============================] - 160s 1s/step - loss: 0.0217 - accuracy: 0.9973 - val_loss: 1.7804 - val_accuracy: 0.5802\n",
      "Epoch 5/11\n",
      "149/149 [==============================] - 185s 1s/step - loss: 0.0152 - accuracy: 0.9975 - val_loss: 0.8752 - val_accuracy: 0.6655\n",
      "Epoch 6/11\n",
      "149/149 [==============================] - 169s 1s/step - loss: 0.0118 - accuracy: 0.9981 - val_loss: 0.9693 - val_accuracy: 0.7137\n",
      "Epoch 7/11\n",
      "149/149 [==============================] - 151s 1s/step - loss: 0.0072 - accuracy: 0.9989 - val_loss: 0.9929 - val_accuracy: 0.7154\n",
      "Epoch 8/11\n",
      "149/149 [==============================] - 153s 1s/step - loss: 0.0058 - accuracy: 0.9985 - val_loss: 4.2759 - val_accuracy: 0.4780\n",
      "Epoch 9/11\n",
      "149/149 [==============================] - 151s 1s/step - loss: 0.0051 - accuracy: 0.9996 - val_loss: 17.7134 - val_accuracy: 0.5279\n",
      "Epoch 10/11\n",
      "149/149 [==============================] - 151s 1s/step - loss: 0.0218 - accuracy: 0.9954 - val_loss: 1.3793 - val_accuracy: 0.5676\n",
      "Epoch 10: early stopping\n"
     ]
    }
   ],
   "source": [
    "# Training the network\n",
    "print(\"[INFO] training network for {} epochs...\".format(NUM_EPOCHS))\n",
    "fitted = model.fit(\n",
    "    train_generator,\n",
    "    steps_per_epoch=STEP_SIZE_TRAIN,\n",
    "    validation_data=validation_generator,\n",
    "    validation_steps=STEP_SIZE_VALID,\n",
    "    epochs=NUM_EPOCHS,\n",
    "    callbacks=[ES],\n",
    ")"
   ]
  },
  {
   "cell_type": "markdown",
   "metadata": {},
   "source": [
    "# Evaluating the CNN model"
   ]
  },
  {
   "cell_type": "markdown",
   "metadata": {},
   "source": [
    "### Validation and training accuracy history plot:"
   ]
  },
  {
   "cell_type": "code",
   "execution_count": 8,
   "metadata": {},
   "outputs": [
    {
     "name": "stdout",
     "output_type": "stream",
     "text": [
      "[INFO] evaluating network...\n"
     ]
    },
    {
     "data": {
      "text/plain": [
       "<matplotlib.legend.Legend at 0x13f460cd0>"
      ]
     },
     "execution_count": 8,
     "metadata": {},
     "output_type": "execute_result"
    },
    {
     "data": {
      "image/png": "[encoded data removed]",
      "text/plain": [
       "<Figure size 432x288 with 1 Axes>"
      ]
     },
     "metadata": {
      "needs_background": "light"
     },
     "output_type": "display_data"
    }
   ],
   "source": [
    "# Evalutate the network - use validation set\n",
    "print(\"[INFO] evaluating network...\")\n",
    "\n",
    "plt.plot(fitted.history[\"accuracy\"], label=\"accuracy\")\n",
    "plt.plot(fitted.history[\"val_accuracy\"], label=\"val_accuracy\")\n",
    "plt.xlabel(\"Epoch\")\n",
    "plt.ylabel(\"Accuracy\")\n",
    "plt.ylim([0, 1])\n",
    "plt.title(\"Validation and Training accuracy\")\n",
    "plt.legend(loc=\"lower right\")"
   ]
  },
  {
   "cell_type": "markdown",
   "metadata": {},
   "source": [
    "### Validation and Training Loss History Plot:"
   ]
  },
  {
   "cell_type": "code",
   "execution_count": 9,
   "metadata": {},
   "outputs": [
    {
     "name": "stdout",
     "output_type": "stream",
     "text": [
      "[INFO] evaluating network...\n"
     ]
    },
    {
     "data": {
      "text/plain": [
       "<matplotlib.legend.Legend at 0x13f4f1e50>"
      ]
     },
     "execution_count": 9,
     "metadata": {},
     "output_type": "execute_result"
    },
    {
     "data": {
      "image/png": "[encoded data removed]",
      "text/plain": [
       "<Figure size 432x288 with 1 Axes>"
      ]
     },
     "metadata": {
      "needs_background": "light"
     },
     "output_type": "display_data"
    }
   ],
   "source": [
    "# Evalutate the network - use validation set\n",
    "print(\"[INFO] evaluating network...\")\n",
    "\n",
    "plt.plot(fitted.history[\"loss\"], label=\"Training loss\")\n",
    "plt.plot(fitted.history[\"val_loss\"], label=\"Validation loss\")\n",
    "plt.title(\"Validation and Training loss\")\n",
    "plt.xlabel(\"Epoch\")\n",
    "plt.ylabel(\"Accuracy\")\n",
    "plt.legend()"
   ]
  },
  {
   "cell_type": "markdown",
   "metadata": {},
   "source": [
    "### Printing a summary of the statistics with model evaluation"
   ]
  },
  {
   "cell_type": "code",
   "execution_count": 10,
   "metadata": {},
   "outputs": [
    {
     "name": "stdout",
     "output_type": "stream",
     "text": [
      "80/80 - 21s - loss: 0.9295 - accuracy: 0.6961 - 21s/epoch - 262ms/step\n",
      "----- Evaluation Summary statistics -----\n",
      "Test accuracy =  0.696128249168396\n",
      "Test loss =  0.929456353187561\n"
     ]
    }
   ],
   "source": [
    "test_loss, test_acc = model.evaluate(\n",
    "    test_generator, verbose=2\n",
    ")  # Check the return values for this\n",
    "\n",
    "print(\"----- Evaluation Summary statistics -----\")\n",
    "print(\"Test accuracy = \", test_acc)\n",
    "print(\"Test loss = \", test_loss)"
   ]
  },
  {
   "cell_type": "markdown",
   "metadata": {},
   "source": [
    "### Classification Report of the model\n",
    "\n",
    "NB: the code below this point will not work and will produce misleading results if the test data is shuffled in the test_generator code. If you did that please change the way you get the predicted labels. You will most likely need to collect them by iterating through the test_generator to get the labels from all the batches. Of course it would be easier if the batch size includes all the data at once."
   ]
  },
  {
   "cell_type": "code",
   "execution_count": 11,
   "metadata": {},
   "outputs": [
    {
     "name": "stdout",
     "output_type": "stream",
     "text": [
      "Running Classification Report...\n",
      "              precision    recall  f1-score   support\n",
      "\n",
      "  bottlenose       0.92      0.54      0.68       962\n",
      "      common       0.60      0.90      0.72       914\n",
      "melon-headed       0.72      0.65      0.68       681\n",
      "\n",
      "    accuracy                           0.70      2557\n",
      "   macro avg       0.74      0.70      0.69      2557\n",
      "weighted avg       0.75      0.70      0.69      2557\n",
      "\n"
     ]
    }
   ],
   "source": [
    "print(\"Running Classification Report...\")\n",
    "test_generator.reset()\n",
    "# get the predicted scores for each class\n",
    "scores = model.predict(test_generator)\n",
    "# get the label with the highest prediction\n",
    "predicted_labels = scores.argmax(axis=1)\n",
    "# get ground truth labels from test_generator.classes\n",
    "true_labels = test_generator.classes\n",
    "\n",
    "# gets class names\n",
    "species = dict((v,k) for k,v in (train_generator.class_indices).items())\n",
    "species_names = np.array(list(species.values()))\n",
    "\n",
    "print(\n",
    "    classification_report(\n",
    "        true_labels, \n",
    "        predicted_labels, \n",
    "        target_names = species_names)\n",
    ")"
   ]
  },
  {
   "cell_type": "markdown",
   "metadata": {},
   "source": [
    "### Confusion Matrix of the model"
   ]
  },
  {
   "cell_type": "code",
   "execution_count": 12,
   "metadata": {},
   "outputs": [
    {
     "data": {
      "text/plain": [
       "<sklearn.metrics._plot.confusion_matrix.ConfusionMatrixDisplay at 0x13f4b8fd0>"
      ]
     },
     "execution_count": 12,
     "metadata": {},
     "output_type": "execute_result"
    },
    {
     "data": {
      "image/png": "[encoded data removed]",
      "text/plain": [
       "<Figure size 432x288 with 2 Axes>"
      ]
     },
     "metadata": {
      "needs_background": "light"
     },
     "output_type": "display_data"
    }
   ],
   "source": [
    "cm = confusion_matrix(true_labels, predicted_labels)\n",
    "display = ConfusionMatrixDisplay(confusion_matrix=cm, display_labels=species_names)\n",
    "display.plot()"
   ]
  },
  {
   "cell_type": "markdown",
   "metadata": {},
   "source": [
    "## Save\n",
    "The current naming format has been decided to be \"date-modelname\"."
   ]
  },
  {
   "cell_type": "code",
   "execution_count": 13,
   "metadata": {},
   "outputs": [],
   "source": [
    "from datetime import date\n",
    "today = date.today()\n",
    "today = str(today)"
   ]
  },
  {
   "cell_type": "code",
   "execution_count": 14,
   "metadata": {},
   "outputs": [
    {
     "name": "stderr",
     "output_type": "stream",
     "text": [
      "2022-04-05 20:59:03.190106: W tensorflow/python/util/util.cc:368] Sets are not currently considered sequences, but this may change in the future, so consider avoiding using them.\n"
     ]
    },
    {
     "name": "stdout",
     "output_type": "stream",
     "text": [
      "INFO:tensorflow:Assets written to: 2022-04-05-eric.model/assets\n"
     ]
    }
   ],
   "source": [
    "# Save the trained model -> could save just the weights or the entire architecture\n",
    "model_name = \"-eric\"\n",
    "model.save(today + model_name + '.model')"
   ]
  }
 ],
 "metadata": {
  "interpreter": {
   "hash": "2095d8fafee06d6eda80f440969be72fcf850039ccc5b044496e51994bf5fd0a"
  },
  "kernelspec": {
   "display_name": "Python 3.9.5 ('dolphin': venv)",
   "language": "python",
   "name": "python3"
  },
  "language_info": {
   "codemirror_mode": {
    "name": "ipython",
    "version": 3
   },
   "file_extension": ".py",
   "mimetype": "text/x-python",
   "name": "python",
   "nbconvert_exporter": "python",
   "pygments_lexer": "ipython3",
   "version": "3.9.10"
  },
  "orig_nbformat": 4
 },
 "nbformat": 4,
 "nbformat_minor": 2
}
